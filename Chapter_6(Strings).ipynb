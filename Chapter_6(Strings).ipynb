{
  "nbformat": 4,
  "nbformat_minor": 0,
  "metadata": {
    "colab": {
      "name": "Chapter_6(Strings).ipynb",
      "provenance": [],
      "collapsed_sections": [],
      "authorship_tag": "ABX9TyPyVKpW/7qASSnZua1/HE6s",
      "include_colab_link": true
    },
    "kernelspec": {
      "name": "python3",
      "display_name": "Python 3"
    },
    "language_info": {
      "name": "python"
    }
  },
  "cells": [
    {
      "cell_type": "markdown",
      "metadata": {
        "id": "view-in-github",
        "colab_type": "text"
      },
      "source": [
        "<a href=\"https://colab.research.google.com/github/SyedHasnat/Python-For-Everybody/blob/main/Chapter_6(Strings).ipynb\" target=\"_parent\"><img src=\"https://colab.research.google.com/assets/colab-badge.svg\" alt=\"Open In Colab\"/></a>"
      ]
    },
    {
      "cell_type": "markdown",
      "source": [
        "**Strings**\n",
        "\n",
        "\n",
        "*  A string is a sequence\n",
        "\n",
        "*  Getting The Length Of a String Using Len\n",
        "\n",
        "* Traversal Through a String With a Loop\n",
        "\n",
        "* String Slices\n",
        "*   Strings are Immutable\n",
        "\n",
        "\n",
        "*  Looping and Counting\n",
        "\n",
        "\n",
        "*   The in Operator\n",
        "\n",
        "*   String Comparison\n",
        "\n",
        "*   String Sethods\n",
        "\n",
        "*  Parsing Strings\n",
        "*   Fprmat Operator\n",
        "\n",
        "\n",
        "*   List item\n",
        "\n",
        "\n",
        "\n"
      ],
      "metadata": {
        "id": "00xLvMxWHWXU"
      }
    },
    {
      "cell_type": "markdown",
      "source": [
        "**A string is a sequence** sequence of characters. You can access the characters one at a time with the bracket operator![image.png](data:image/png;base64,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)"
      ],
      "metadata": {
        "id": "WTD8M8OJHwZX"
      }
    },
    {
      "cell_type": "code",
      "execution_count": 2,
      "metadata": {
        "colab": {
          "base_uri": "https://localhost:8080/"
        },
        "id": "voT19dXyHPOC",
        "outputId": "f7dedc1e-2f43-4b9c-f8c1-98381e7817f7"
      },
      "outputs": [
        {
          "output_type": "stream",
          "name": "stdout",
          "text": [
            "a\n",
            "n\n"
          ]
        }
      ],
      "source": [
        "fruit = 'banana'\n",
        "letter = fruit[1] #index starts from zero\n",
        "print(letter)\n",
        "letter = fruit[2]\n",
        "print(letter)"
      ]
    },
    {
      "cell_type": "markdown",
      "source": [
        "**Getting the length of a string using len**"
      ],
      "metadata": {
        "id": "XRNX4BGzIxxQ"
      }
    },
    {
      "cell_type": "code",
      "source": [
        "fruit = 'banana'\n",
        "len(fruit)"
      ],
      "metadata": {
        "colab": {
          "base_uri": "https://localhost:8080/"
        },
        "id": "fbGBgNN8HV38",
        "outputId": "82205191-8d9f-4059-fc66-3e3a21a53e6f"
      },
      "execution_count": 3,
      "outputs": [
        {
          "output_type": "execute_result",
          "data": {
            "text/plain": [
              "6"
            ]
          },
          "metadata": {},
          "execution_count": 3
        }
      ]
    },
    {
      "cell_type": "markdown",
      "source": [
        "**Traversal through a string with a loop**"
      ],
      "metadata": {
        "id": "Wu33DOnsJBYt"
      }
    },
    {
      "cell_type": "code",
      "source": [
        "index = 0 \n",
        "while index < len(fruit): #as length equals to 6 and index starts from 0 thats whhy we aare taking index < 6, if put it like index<=5 it will give error\n",
        " letter = fruit[index]\n",
        " print(letter, end=', ')\n",
        " index = index + 1"
      ],
      "metadata": {
        "colab": {
          "base_uri": "https://localhost:8080/"
        },
        "id": "58_6xYb_JFwv",
        "outputId": "2eb78035-cc14-4155-97f9-d32744a38470"
      },
      "execution_count": 8,
      "outputs": [
        {
          "output_type": "stream",
          "name": "stdout",
          "text": [
            "b, a, n, a, n, a, "
          ]
        }
      ]
    },
    {
      "cell_type": "markdown",
      "source": [
        "**we can do the above thriugh a loop**"
      ],
      "metadata": {
        "id": "9dcevBKEJ8zt"
      }
    },
    {
      "cell_type": "code",
      "source": [
        "for char in fruit:\n",
        " print(char, end=', ')"
      ],
      "metadata": {
        "colab": {
          "base_uri": "https://localhost:8080/"
        },
        "id": "1Ls-IyXAJ1Up",
        "outputId": "afed5512-340a-460a-f3c5-08d744069229"
      },
      "execution_count": 7,
      "outputs": [
        {
          "output_type": "stream",
          "name": "stdout",
          "text": [
            "b, a, n, a, n, a, "
          ]
        }
      ]
    },
    {
      "cell_type": "markdown",
      "source": [
        "**String slices** A segment of a string is called a slice. Selecting a slice is similar to selecting a\n",
        "character:"
      ],
      "metadata": {
        "id": "MFU0quopKUQS"
      }
    },
    {
      "cell_type": "code",
      "source": [
        "s = 'Monty Python'\n",
        "length = len(s)\n",
        "print('length= ', length)\n",
        "print(s[0: 5]) # in slicing you are defing the range like select charatcers from string from index 1 to index 5\n",
        "print(s[6: 12])\n"
      ],
      "metadata": {
        "colab": {
          "base_uri": "https://localhost:8080/"
        },
        "id": "OXxMHA2MKT8c",
        "outputId": "1bf4fa19-38fe-48fc-a69b-87b026154d1c"
      },
      "execution_count": 16,
      "outputs": [
        {
          "output_type": "stream",
          "name": "stdout",
          "text": [
            "length=  12\n",
            "Monty\n",
            "Python\n"
          ]
        }
      ]
    },
    {
      "cell_type": "code",
      "source": [
        "fruit = 'banana'\n",
        "print(fruit[ : 3]) # means index starting from zero\n",
        "print(fruit[3: ]) # means upto index=len(fruit)\n",
        "print(fruit[3: 3]) #will print nothing\n",
        "print(fruit[3]) #will only print a letter which is at inddex 3"
      ],
      "metadata": {
        "colab": {
          "base_uri": "https://localhost:8080/"
        },
        "id": "IyxazS8NMJK_",
        "outputId": "b11f29cf-c348-4646-e71c-ea0074ccfe3d"
      },
      "execution_count": 21,
      "outputs": [
        {
          "output_type": "stream",
          "name": "stdout",
          "text": [
            "ban\n",
            "ana\n",
            "\n",
            "a\n"
          ]
        }
      ]
    },
    {
      "cell_type": "markdown",
      "source": [
        "**Strings are immutable**"
      ],
      "metadata": {
        "id": "jEARAdOSNUZL"
      }
    },
    {
      "cell_type": "code",
      "source": [
        "word = 'Bold'\n",
        "word[3] = 't' #it will give error becuse you can't change or replace a letter in string (means srtring is immutable) "
      ],
      "metadata": {
        "colab": {
          "base_uri": "https://localhost:8080/",
          "height": 190
        },
        "id": "mU3F7lffNY7i",
        "outputId": "53b1ea2c-7c0f-402b-a380-08d4f6841aef"
      },
      "execution_count": 26,
      "outputs": [
        {
          "output_type": "error",
          "ename": "TypeError",
          "evalue": "ignored",
          "traceback": [
            "\u001b[0;31m---------------------------------------------------------------------------\u001b[0m",
            "\u001b[0;31mTypeError\u001b[0m                                 Traceback (most recent call last)",
            "\u001b[0;32m<ipython-input-26-3e3f364092ae>\u001b[0m in \u001b[0;36m<module>\u001b[0;34m()\u001b[0m\n\u001b[1;32m      1\u001b[0m \u001b[0mgreeting\u001b[0m \u001b[0;34m=\u001b[0m \u001b[0;34m' Hello, world! '\u001b[0m\u001b[0;34m\u001b[0m\u001b[0;34m\u001b[0m\u001b[0m\n\u001b[0;32m----> 2\u001b[0;31m \u001b[0mgreeting\u001b[0m\u001b[0;34m[\u001b[0m\u001b[0;36m0\u001b[0m\u001b[0;34m]\u001b[0m \u001b[0;34m=\u001b[0m \u001b[0;34m' J'\u001b[0m\u001b[0;34m\u001b[0m\u001b[0;34m\u001b[0m\u001b[0m\n\u001b[0m",
            "\u001b[0;31mTypeError\u001b[0m: 'str' object does not support item assignment"
          ]
        }
      ]
    },
    {
      "cell_type": "code",
      "source": [
        "word = 'Bold'\n",
        "word = word[ :3] + 't' \n",
        "print(word)"
      ],
      "metadata": {
        "colab": {
          "base_uri": "https://localhost:8080/"
        },
        "id": "RucmIxLjRERX",
        "outputId": "175b55a5-edbc-487e-dd27-279528a9d46d"
      },
      "execution_count": 39,
      "outputs": [
        {
          "output_type": "stream",
          "name": "stdout",
          "text": [
            "Bolt\n"
          ]
        }
      ]
    },
    {
      "cell_type": "code",
      "source": [
        "greeting = 'good person! '\n",
        "new_greeting = 'He is a ' + greeting[0:]\n",
        "print('Old greeting: ', greeting)\n",
        "print('New greeting: ', new_greeting)\n",
        "#focus on the output letter g is misssing in good"
      ],
      "metadata": {
        "colab": {
          "base_uri": "https://localhost:8080/"
        },
        "id": "y0wMJ8usNq2x",
        "outputId": "a8eb392c-6e77-4d88-efe0-08ee5891b135"
      },
      "execution_count": 28,
      "outputs": [
        {
          "output_type": "stream",
          "name": "stdout",
          "text": [
            "Old greeting:  good person! \n",
            "New greeting:  He is agood person! \n"
          ]
        }
      ]
    },
    {
      "cell_type": "code",
      "source": [
        "greeting = 'good person! '\n",
        "temp = 'He is a '\n",
        "new_greeting = temp + greeting\n",
        "print('Old greeting: ', greeting)\n",
        "print('New greeting: ', new_greeting)"
      ],
      "metadata": {
        "colab": {
          "base_uri": "https://localhost:8080/"
        },
        "id": "kIO-PGSwPRh7",
        "outputId": "cdbd2118-b29d-4ca9-dcd6-c817139aa336"
      },
      "execution_count": 27,
      "outputs": [
        {
          "output_type": "stream",
          "name": "stdout",
          "text": [
            "Old greeting:  good person! \n",
            "New greeting:  He is a good person! \n"
          ]
        }
      ]
    },
    {
      "cell_type": "code",
      "source": [
        "greeting = 'good person! '\n",
        "length = len(greeting)\n",
        "new_greeting = 'He is a' + greeting[1:]\n",
        "print('Old greeting: ', greeting)\n",
        "print('New greeting: ', new_greeting)"
      ],
      "metadata": {
        "id": "YuSUVGNLP22C"
      },
      "execution_count": null,
      "outputs": []
    },
    {
      "cell_type": "markdown",
      "source": [
        "**Looping and counting**"
      ],
      "metadata": {
        "id": "yQjH-el3SQBK"
      }
    },
    {
      "cell_type": "code",
      "source": [
        "word = 'banana'\n",
        "# to count a in word banana\n",
        "count = 0\n",
        "for letter in word:\n",
        " if letter == 'a' :\n",
        "   count = count + 1\n",
        "print(count, ' times a is repeatd in ', word)"
      ],
      "metadata": {
        "colab": {
          "base_uri": "https://localhost:8080/"
        },
        "id": "NALYj-NwSPaf",
        "outputId": "fdf2c4bc-45f8-4c86-80ce-666482620d1b"
      },
      "execution_count": 44,
      "outputs": [
        {
          "output_type": "stream",
          "name": "stdout",
          "text": [
            "3  times a is repeatd in  banana\n"
          ]
        }
      ]
    },
    {
      "cell_type": "markdown",
      "source": [
        "**Encapsulate this code in a function named count, and generalize it so that it\n",
        "accepts the string and the letter as arguments.**"
      ],
      "metadata": {
        "id": "qm0i9x-3TINY"
      }
    },
    {
      "cell_type": "code",
      "source": [
        "def counting(letter_passed):\n",
        " word = 'banana'\n",
        "# to count a in word banana\n",
        " count = 0\n",
        " for letter in word:\n",
        "  if letter == letter_passed :\n",
        "    count = count + 1\n",
        " return count"
      ],
      "metadata": {
        "id": "yRgNKiNVVODv"
      },
      "execution_count": 59,
      "outputs": []
    },
    {
      "cell_type": "code",
      "source": [
        "counting('a')"
      ],
      "metadata": {
        "colab": {
          "base_uri": "https://localhost:8080/"
        },
        "id": "vh4SpOSYVmOU",
        "outputId": "34dccac4-7ad0-4304-b3b0-07beeeee3f4e"
      },
      "execution_count": 60,
      "outputs": [
        {
          "output_type": "execute_result",
          "data": {
            "text/plain": [
              "3"
            ]
          },
          "metadata": {},
          "execution_count": 60
        }
      ]
    },
    {
      "cell_type": "code",
      "source": [
        "def counting_modified(string_passed, letter_passed):\n",
        "# to count a in word banana\n",
        " count = 0\n",
        " for letter in string_passed:\n",
        "  if letter == letter_passed :\n",
        "    count = count + 1\n",
        " return count"
      ],
      "metadata": {
        "id": "dvS3PSdMXS8E"
      },
      "execution_count": 63,
      "outputs": []
    },
    {
      "cell_type": "code",
      "source": [
        "counting_modified('syed muhammad hasanat', 'a')"
      ],
      "metadata": {
        "colab": {
          "base_uri": "https://localhost:8080/"
        },
        "id": "_bTzfjIqXlT6",
        "outputId": "47c81add-51f2-48df-d1e0-c6078d31611d"
      },
      "execution_count": 65,
      "outputs": [
        {
          "output_type": "execute_result",
          "data": {
            "text/plain": [
              "5"
            ]
          },
          "metadata": {},
          "execution_count": 65
        }
      ]
    },
    {
      "cell_type": "markdown",
      "source": [
        "**The in operator** The word in is a boolean operator that takes two strings and returns True if the first appears as a substring in the second"
      ],
      "metadata": {
        "id": "cnphZf9EYeHJ"
      }
    },
    {
      "cell_type": "code",
      "source": [
        "'a' in 'banana'"
      ],
      "metadata": {
        "colab": {
          "base_uri": "https://localhost:8080/"
        },
        "id": "4oi4AZ3fYgaN",
        "outputId": "f9043469-aa12-464f-b1b7-afa2d35b11bf"
      },
      "execution_count": 66,
      "outputs": [
        {
          "output_type": "execute_result",
          "data": {
            "text/plain": [
              "True"
            ]
          },
          "metadata": {},
          "execution_count": 66
        }
      ]
    },
    {
      "cell_type": "code",
      "source": [
        "'m' in 'banana'"
      ],
      "metadata": {
        "colab": {
          "base_uri": "https://localhost:8080/"
        },
        "id": "ovsjdoYdY3hr",
        "outputId": "4d1aa4a6-d1d9-449d-cfdf-0bc39c9f805d"
      },
      "execution_count": 68,
      "outputs": [
        {
          "output_type": "execute_result",
          "data": {
            "text/plain": [
              "False"
            ]
          },
          "metadata": {},
          "execution_count": 68
        }
      ]
    },
    {
      "cell_type": "markdown",
      "source": [
        "**String comparison** The comparison operators work on strings. To see if two strings are equal"
      ],
      "metadata": {
        "id": "XiPWM5ibZQq3"
      }
    },
    {
      "cell_type": "code",
      "source": [
        "if word == 'banana' :\n",
        " print(' All right, banana. ' )"
      ],
      "metadata": {
        "colab": {
          "base_uri": "https://localhost:8080/"
        },
        "id": "v9JU5i60ZyuL",
        "outputId": "c8265dab-88d5-4b82-c9a6-e6e3060d5242"
      },
      "execution_count": 72,
      "outputs": [
        {
          "output_type": "stream",
          "name": "stdout",
          "text": [
            " All right, banana. \n"
          ]
        }
      ]
    },
    {
      "cell_type": "code",
      "source": [
        "if word < 'banana' :\n",
        " print(' Your word, ' + word + ' , comes before banana. ' )\n",
        "elif word > 'banana' :\n",
        " print(' Your word, ' + word + ' , comes after banana. ' )\n",
        "else:\n",
        " print(' All right, bananas. ' )"
      ],
      "metadata": {
        "colab": {
          "base_uri": "https://localhost:8080/"
        },
        "id": "3rvMKr3KaKvR",
        "outputId": "4e6102f9-1758-4c24-8141-0c60f26a2cc7"
      },
      "execution_count": 73,
      "outputs": [
        {
          "output_type": "stream",
          "name": "stdout",
          "text": [
            " All right, bananas. \n"
          ]
        }
      ]
    },
    {
      "cell_type": "markdown",
      "source": [
        "**String Methods**"
      ],
      "metadata": {
        "id": "Vr4EsEsYafc8"
      }
    },
    {
      "cell_type": "code",
      "source": [
        "stuff = 'Hello world'\n",
        "type(stuff)"
      ],
      "metadata": {
        "colab": {
          "base_uri": "https://localhost:8080/"
        },
        "id": "0v049k92apqG",
        "outputId": "3e2e066d-8116-4a61-b49e-4b874a1920cb"
      },
      "execution_count": 74,
      "outputs": [
        {
          "output_type": "execute_result",
          "data": {
            "text/plain": [
              "str"
            ]
          },
          "metadata": {},
          "execution_count": 74
        }
      ]
    },
    {
      "cell_type": "markdown",
      "source": [
        "**To do different opperation on string lets check functions for stuff(str type)**"
      ],
      "metadata": {
        "id": "PB6AuVWWbteP"
      }
    },
    {
      "cell_type": "code",
      "source": [
        "dir(stuff)"
      ],
      "metadata": {
        "colab": {
          "base_uri": "https://localhost:8080/"
        },
        "id": "IOO925ucbAYO",
        "outputId": "03b429d3-b375-47b2-c8bc-584e2e41b39b"
      },
      "execution_count": 78,
      "outputs": [
        {
          "output_type": "execute_result",
          "data": {
            "text/plain": [
              "['__add__',\n",
              " '__class__',\n",
              " '__contains__',\n",
              " '__delattr__',\n",
              " '__dir__',\n",
              " '__doc__',\n",
              " '__eq__',\n",
              " '__format__',\n",
              " '__ge__',\n",
              " '__getattribute__',\n",
              " '__getitem__',\n",
              " '__getnewargs__',\n",
              " '__gt__',\n",
              " '__hash__',\n",
              " '__init__',\n",
              " '__init_subclass__',\n",
              " '__iter__',\n",
              " '__le__',\n",
              " '__len__',\n",
              " '__lt__',\n",
              " '__mod__',\n",
              " '__mul__',\n",
              " '__ne__',\n",
              " '__new__',\n",
              " '__reduce__',\n",
              " '__reduce_ex__',\n",
              " '__repr__',\n",
              " '__rmod__',\n",
              " '__rmul__',\n",
              " '__setattr__',\n",
              " '__sizeof__',\n",
              " '__str__',\n",
              " '__subclasshook__',\n",
              " 'capitalize',\n",
              " 'casefold',\n",
              " 'center',\n",
              " 'count',\n",
              " 'encode',\n",
              " 'endswith',\n",
              " 'expandtabs',\n",
              " 'find',\n",
              " 'format',\n",
              " 'format_map',\n",
              " 'index',\n",
              " 'isalnum',\n",
              " 'isalpha',\n",
              " 'isascii',\n",
              " 'isdecimal',\n",
              " 'isdigit',\n",
              " 'isidentifier',\n",
              " 'islower',\n",
              " 'isnumeric',\n",
              " 'isprintable',\n",
              " 'isspace',\n",
              " 'istitle',\n",
              " 'isupper',\n",
              " 'join',\n",
              " 'ljust',\n",
              " 'lower',\n",
              " 'lstrip',\n",
              " 'maketrans',\n",
              " 'partition',\n",
              " 'replace',\n",
              " 'rfind',\n",
              " 'rindex',\n",
              " 'rjust',\n",
              " 'rpartition',\n",
              " 'rsplit',\n",
              " 'rstrip',\n",
              " 'split',\n",
              " 'splitlines',\n",
              " 'startswith',\n",
              " 'strip',\n",
              " 'swapcase',\n",
              " 'title',\n",
              " 'translate',\n",
              " 'upper',\n",
              " 'zfill']"
            ]
          },
          "metadata": {},
          "execution_count": 78
        }
      ]
    },
    {
      "cell_type": "markdown",
      "source": [
        "**For taking help about a function in str**"
      ],
      "metadata": {
        "id": "moYU-fL6cF7x"
      }
    },
    {
      "cell_type": "code",
      "source": [
        "help(str.upper)"
      ],
      "metadata": {
        "colab": {
          "base_uri": "https://localhost:8080/"
        },
        "id": "qTpJcROScEOK",
        "outputId": "ba71c91f-5847-4ce4-9acc-c6653e68504b"
      },
      "execution_count": 80,
      "outputs": [
        {
          "output_type": "stream",
          "name": "stdout",
          "text": [
            "Help on method_descriptor:\n",
            "\n",
            "upper(self, /)\n",
            "    Return a copy of the string converted to uppercase.\n",
            "\n"
          ]
        }
      ]
    },
    {
      "cell_type": "code",
      "source": [
        "print(stuff.upper())"
      ],
      "metadata": {
        "colab": {
          "base_uri": "https://localhost:8080/"
        },
        "id": "eNjvPB1ObN7z",
        "outputId": "2f33b53d-44b6-47c4-c899-c4a69920d415"
      },
      "execution_count": 76,
      "outputs": [
        {
          "output_type": "stream",
          "name": "stdout",
          "text": [
            "HELLO WORLD\n"
          ]
        }
      ]
    },
    {
      "cell_type": "markdown",
      "source": [
        "**to remove white space (spaces, tabs, or newlines) from the\n",
        "beginning and end of a string using the strip method**"
      ],
      "metadata": {
        "id": "TkpxYge_deML"
      }
    },
    {
      "cell_type": "code",
      "source": [
        "line = ' Here we go '\n",
        "line.strip()"
      ],
      "metadata": {
        "colab": {
          "base_uri": "https://localhost:8080/",
          "height": 36
        },
        "id": "NBevFk8ngluw",
        "outputId": "dc7e9e3e-b876-425d-e6e7-44d0f3180425"
      },
      "execution_count": 87,
      "outputs": [
        {
          "output_type": "execute_result",
          "data": {
            "application/vnd.google.colaboratory.intrinsic+json": {
              "type": "string"
            },
            "text/plain": [
              "'Here we go'"
            ]
          },
          "metadata": {},
          "execution_count": 87
        }
      ]
    },
    {
      "cell_type": "markdown",
      "source": [
        "**Parsing Strings**"
      ],
      "metadata": {
        "id": "aT8t5SvpiqZC"
      }
    },
    {
      "cell_type": "code",
      "source": [
        "data = 'From stephen.marquard@uct.ac.za Sat Jan 5 09:14:16 2008'\n",
        "#our aim is to extract uct.ac.za from data\n",
        "index_of = data.find('@' ) #first find index of @ in string\n",
        "space_index = data.find(' ' , index_of) #index of space after @\n",
        "extracted_data = data[index_of + 1:space_index]\n",
        "print(extracted_data)"
      ],
      "metadata": {
        "colab": {
          "base_uri": "https://localhost:8080/"
        },
        "id": "9LItGpppipy5",
        "outputId": "e5d561a0-9cc6-4d04-be9a-d4cc788f67b8"
      },
      "execution_count": 94,
      "outputs": [
        {
          "output_type": "stream",
          "name": "stdout",
          "text": [
            "uct.ac.za\n"
          ]
        }
      ]
    },
    {
      "cell_type": "code",
      "source": [
        "#this approach can also be used\n",
        "data = 'From stephen.marquard@uct.ac.za Sat Jan 5 09:14:16 2008'\n",
        "to_remove = len('From stephen.marquard@')\n",
        "total_length = len(data)\n",
        "extracted_data = data[to_remove:total_length]\n",
        "print(extracted_data)"
      ],
      "metadata": {
        "colab": {
          "base_uri": "https://localhost:8080/"
        },
        "id": "PGdje07zmNyF",
        "outputId": "ac9a0d8c-f8dc-4381-9399-16c5537fbe57"
      },
      "execution_count": 100,
      "outputs": [
        {
          "output_type": "stream",
          "name": "stdout",
          "text": [
            "uct.ac.za Sat Jan 5 09:14:16 2008\n"
          ]
        }
      ]
    },
    {
      "cell_type": "markdown",
      "source": [
        "**Format Operator** “%d” to format an integer, “%g” to format a floatingpoint number (don’t ask why), and “%s” to format a string"
      ],
      "metadata": {
        "id": "iH9qwEtcoOmh"
      }
    },
    {
      "cell_type": "code",
      "source": [
        "' In %d years I have spotted %g %s. ' % (3, 0.1, ' camels' )"
      ],
      "metadata": {
        "colab": {
          "base_uri": "https://localhost:8080/",
          "height": 36
        },
        "id": "f79zFJtmoUN1",
        "outputId": "2de8e12f-e9c6-4f8e-bfab-2bccb48a2ad7"
      },
      "execution_count": 104,
      "outputs": [
        {
          "output_type": "execute_result",
          "data": {
            "application/vnd.google.colaboratory.intrinsic+json": {
              "type": "string"
            },
            "text/plain": [
              "' In 3 years I have spotted 0.1  camels. '"
            ]
          },
          "metadata": {},
          "execution_count": 104
        }
      ]
    }
  ]
}