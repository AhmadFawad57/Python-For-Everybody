{
  "nbformat": 4,
  "nbformat_minor": 0,
  "metadata": {
    "colab": {
      "name": "Chapter_8(Lists).ipynb",
      "provenance": [],
      "collapsed_sections": [],
      "authorship_tag": "ABX9TyM8MCwcITZgj+B6jsd8qK8h",
      "include_colab_link": true
    },
    "kernelspec": {
      "name": "python3",
      "display_name": "Python 3"
    },
    "language_info": {
      "name": "python"
    }
  },
  "cells": [
    {
      "cell_type": "markdown",
      "metadata": {
        "id": "view-in-github",
        "colab_type": "text"
      },
      "source": [
        "<a href=\"https://colab.research.google.com/github/SyedHasnat/Python-For-Everybody/blob/main/Chapter_8(Lists).ipynb\" target=\"_parent\"><img src=\"https://colab.research.google.com/assets/colab-badge.svg\" alt=\"Open In Colab\"/></a>"
      ]
    },
    {
      "cell_type": "code",
      "execution_count": 3,
      "metadata": {
        "colab": {
          "base_uri": "https://localhost:8080/"
        },
        "id": "Fz8gAAib7f-R",
        "outputId": "59c0a41e-64db-424a-d929-ef23b6e76b6a"
      },
      "outputs": [
        {
          "output_type": "stream",
          "name": "stdout",
          "text": [
            "[' spam', 2.0, 5]\n"
          ]
        }
      ],
      "source": [
        "lst=[' spam' , 2.0, 5]\n",
        "print(lst)"
      ]
    },
    {
      "cell_type": "code",
      "source": [
        "cheeses = [' Cheddar' , ' Edam' , ' Gouda' ]\n",
        "numbers = [17, 123]\n",
        "empty = []\n",
        "print(cheeses, numbers, empty)"
      ],
      "metadata": {
        "colab": {
          "base_uri": "https://localhost:8080/"
        },
        "id": "by50Vv1JBC1T",
        "outputId": "653b53b3-8550-4c6a-b17e-87a15babad3a"
      },
      "execution_count": 4,
      "outputs": [
        {
          "output_type": "stream",
          "name": "stdout",
          "text": [
            "[' Cheddar', ' Edam', ' Gouda'] [17, 123] []\n"
          ]
        }
      ]
    },
    {
      "cell_type": "markdown",
      "source": [
        "**Lists are mutable**"
      ],
      "metadata": {
        "id": "PrtSv_3LBVpn"
      }
    },
    {
      "cell_type": "code",
      "source": [
        "umbers = [17, 123]\n",
        "print(umbers)\n",
        "numbers[1] = 5 #while in string it will give error\n",
        "print(numbers)"
      ],
      "metadata": {
        "colab": {
          "base_uri": "https://localhost:8080/"
        },
        "id": "mU1tEIgQBYZw",
        "outputId": "2023fc16-50a6-4f73-b717-788175ce2bb5"
      },
      "execution_count": 6,
      "outputs": [
        {
          "output_type": "stream",
          "name": "stdout",
          "text": [
            "[17, 123]\n",
            "[17, 5]\n"
          ]
        }
      ]
    },
    {
      "cell_type": "code",
      "source": [
        "17 in umbers #to check either 17 is in the list or not"
      ],
      "metadata": {
        "colab": {
          "base_uri": "https://localhost:8080/"
        },
        "id": "q9FRJtTQBsLP",
        "outputId": "70c0383a-1f8e-4162-d21c-fc5fdda57673"
      },
      "execution_count": 7,
      "outputs": [
        {
          "output_type": "execute_result",
          "data": {
            "text/plain": [
              "True"
            ]
          },
          "metadata": {},
          "execution_count": 7
        }
      ]
    },
    {
      "cell_type": "markdown",
      "source": [
        "**Traversing a list**"
      ],
      "metadata": {
        "id": "VYrvKrOUCD_K"
      }
    },
    {
      "cell_type": "code",
      "source": [
        "hasnat=['h', 'a', 's', 'n', 'a', 't']\n",
        "for character in hasnat:\n",
        " print(hasnat)"
      ],
      "metadata": {
        "colab": {
          "base_uri": "https://localhost:8080/"
        },
        "id": "0o5PnswkCAIR",
        "outputId": "5c830a74-f3d4-4262-ede2-403deda56d53"
      },
      "execution_count": 9,
      "outputs": [
        {
          "output_type": "stream",
          "name": "stdout",
          "text": [
            "['h', 'a', 's', 'n', 'a', 't']\n",
            "['h', 'a', 's', 'n', 'a', 't']\n",
            "['h', 'a', 's', 'n', 'a', 't']\n",
            "['h', 'a', 's', 'n', 'a', 't']\n",
            "['h', 'a', 's', 'n', 'a', 't']\n",
            "['h', 'a', 's', 'n', 'a', 't']\n"
          ]
        }
      ]
    },
    {
      "cell_type": "markdown",
      "source": [
        "**List operations**"
      ],
      "metadata": {
        "id": "C77lKlKhDt_9"
      }
    },
    {
      "cell_type": "code",
      "source": [
        "a = [1, 2, 3]\n",
        "b = [4, 5, 6]\n",
        "c = a + b #it will just combine both the lists\n",
        "print(c)"
      ],
      "metadata": {
        "colab": {
          "base_uri": "https://localhost:8080/"
        },
        "id": "Cn1ZfScaDv09",
        "outputId": "627888de-32ed-4583-d157-0b7592aa6bfa"
      },
      "execution_count": 13,
      "outputs": [
        {
          "output_type": "stream",
          "name": "stdout",
          "text": [
            "[1, 2, 3, 4, 5, 6]\n"
          ]
        }
      ]
    },
    {
      "cell_type": "code",
      "source": [
        "a = [1, 2, 3]\n",
        "c=a*2\n",
        "print(c)"
      ],
      "metadata": {
        "colab": {
          "base_uri": "https://localhost:8080/"
        },
        "id": "PqOo8Y2TEBBQ",
        "outputId": "519a171c-72fc-44f6-8f5f-61e430a903a4"
      },
      "execution_count": 14,
      "outputs": [
        {
          "output_type": "stream",
          "name": "stdout",
          "text": [
            "[1, 2, 3, 1, 2, 3]\n"
          ]
        }
      ]
    },
    {
      "cell_type": "markdown",
      "source": [
        "**List slices**"
      ],
      "metadata": {
        "id": "ZxMCqQ8tEM7_"
      }
    },
    {
      "cell_type": "code",
      "source": [
        "t = [' a' , ' b' , ' c' , ' d' , ' e' , ' f' ]\n",
        "print(t[ : ])\n",
        "print(t[1: ])\n",
        "print(t[5:7])"
      ],
      "metadata": {
        "colab": {
          "base_uri": "https://localhost:8080/"
        },
        "id": "csc5fUGXEOfx",
        "outputId": "70384e5c-c0a8-499e-a76c-9eb8b6024188"
      },
      "execution_count": 16,
      "outputs": [
        {
          "output_type": "stream",
          "name": "stdout",
          "text": [
            "[' a', ' b', ' c', ' d', ' e', ' f']\n",
            "[' b', ' c', ' d', ' e', ' f']\n",
            "[' f']\n"
          ]
        }
      ]
    },
    {
      "cell_type": "markdown",
      "source": [
        "**List methods**"
      ],
      "metadata": {
        "id": "hy6vUM0JE2TE"
      }
    },
    {
      "cell_type": "code",
      "source": [
        "#append\n",
        "t = [' a' , ' b' , ' c' ]\n",
        "print(t)\n",
        "t.append(' d' )\n",
        "print(t)"
      ],
      "metadata": {
        "colab": {
          "base_uri": "https://localhost:8080/"
        },
        "id": "VP_jpcB_E3pi",
        "outputId": "03f07751-247a-4ccf-a5f4-24aac80d0f4d"
      },
      "execution_count": 18,
      "outputs": [
        {
          "output_type": "stream",
          "name": "stdout",
          "text": [
            "[' a', ' b', ' c']\n",
            "[' a', ' b', ' c', ' d']\n"
          ]
        }
      ]
    },
    {
      "cell_type": "code",
      "source": [
        "#etend\n",
        "t1 = [' a' , ' b' , ' c' ]\n",
        "t2 = [' d' , ' e' ]\n",
        "t1.extend(t2)\n",
        "print(t1)"
      ],
      "metadata": {
        "colab": {
          "base_uri": "https://localhost:8080/"
        },
        "id": "JULiSNYyFKRi",
        "outputId": "e3f1f967-ed93-4389-b857-2d4bd766ecf3"
      },
      "execution_count": 19,
      "outputs": [
        {
          "output_type": "stream",
          "name": "stdout",
          "text": [
            "[' a', ' b', ' c', ' d', ' e']\n"
          ]
        }
      ]
    },
    {
      "cell_type": "code",
      "source": [
        "#sort\n",
        "t = [' d' , ' c' , ' e' , ' b' , ' a' ]\n",
        "print(t)\n",
        "t.sort()\n",
        "print(t)"
      ],
      "metadata": {
        "colab": {
          "base_uri": "https://localhost:8080/"
        },
        "id": "810XMjvPFYCK",
        "outputId": "cc66f0ad-a5ff-40d2-9ae3-7a252e94dc40"
      },
      "execution_count": 21,
      "outputs": [
        {
          "output_type": "stream",
          "name": "stdout",
          "text": [
            "[' d', ' c', ' e', ' b', ' a']\n",
            "[' a', ' b', ' c', ' d', ' e']\n"
          ]
        }
      ]
    },
    {
      "cell_type": "markdown",
      "source": [
        "**Deleting elements**"
      ],
      "metadata": {
        "id": "lB8y6iEPFsMT"
      }
    },
    {
      "cell_type": "code",
      "source": [
        "#remove index wise\n",
        "t = [' a' , ' b' , ' c' ]\n",
        "x = t.pop(1) \n",
        "print(t)\n",
        "print(x)"
      ],
      "metadata": {
        "colab": {
          "base_uri": "https://localhost:8080/"
        },
        "id": "b9Rx_0twFvXF",
        "outputId": "fa60efb4-c77e-4883-a948-3a610a22c99d"
      },
      "execution_count": 23,
      "outputs": [
        {
          "output_type": "stream",
          "name": "stdout",
          "text": [
            "[' a', ' c']\n",
            " b\n"
          ]
        }
      ]
    },
    {
      "cell_type": "code",
      "source": [
        "t = [' a' , ' b' , ' c' ]\n",
        "del t[1]\n",
        "print(t)"
      ],
      "metadata": {
        "colab": {
          "base_uri": "https://localhost:8080/"
        },
        "id": "GEhrVBV8GFE-",
        "outputId": "63b4946e-a6b8-4b2d-aef8-f324e9124eda"
      },
      "execution_count": 24,
      "outputs": [
        {
          "output_type": "stream",
          "name": "stdout",
          "text": [
            "[' a', ' c']\n"
          ]
        }
      ]
    },
    {
      "cell_type": "code",
      "source": [
        "t = [' a' , ' b' , ' c' ]\n",
        "t.remove(' b' )\n",
        "print(t)"
      ],
      "metadata": {
        "colab": {
          "base_uri": "https://localhost:8080/"
        },
        "id": "77WZmODaGM1f",
        "outputId": "d5e201d0-e4c7-417f-8969-7ce1a0912622"
      },
      "execution_count": 25,
      "outputs": [
        {
          "output_type": "stream",
          "name": "stdout",
          "text": [
            "[' a', ' c']\n"
          ]
        }
      ]
    },
    {
      "cell_type": "code",
      "source": [
        "#remove from index a to index h\n",
        "t = [' a' , ' b' , ' c' , ' d' , ' e' , ' f' ]\n",
        "print(t)\n",
        "del t[1: 5]\n",
        "print(t)"
      ],
      "metadata": {
        "colab": {
          "base_uri": "https://localhost:8080/"
        },
        "id": "viRsyu8xGUoS",
        "outputId": "32595763-471d-4075-c9ec-f962f10deadb"
      },
      "execution_count": 27,
      "outputs": [
        {
          "output_type": "stream",
          "name": "stdout",
          "text": [
            "[' a', ' b', ' c', ' d', ' e', ' f']\n",
            "[' a', ' f']\n"
          ]
        }
      ]
    },
    {
      "cell_type": "markdown",
      "source": [
        "**Lists and functions**"
      ],
      "metadata": {
        "id": "XjDQTanmGlwH"
      }
    },
    {
      "cell_type": "code",
      "source": [
        "nums = [3, 41, 12, 9, 74, 15]\n",
        "print(len(nums))\n",
        "print(max(nums))\n",
        "print(min(nums))\n",
        "print(sum(nums))\n",
        "print(sum(nums)/len(nums))"
      ],
      "metadata": {
        "colab": {
          "base_uri": "https://localhost:8080/"
        },
        "id": "jjGGVeP_GpnH",
        "outputId": "bef4998b-d651-421e-8d83-cd51420ef567"
      },
      "execution_count": 28,
      "outputs": [
        {
          "output_type": "stream",
          "name": "stdout",
          "text": [
            "6\n",
            "74\n",
            "3\n",
            "154\n",
            "25.666666666666668\n"
          ]
        }
      ]
    },
    {
      "cell_type": "markdown",
      "source": [
        "**average without list**"
      ],
      "metadata": {
        "id": "QhdLO85yHNOc"
      }
    },
    {
      "cell_type": "code",
      "source": [
        "total = 0\n",
        "count = 0\n",
        "while (True):\n",
        "    inp = input('Enter a number: ')\n",
        "    if inp == 'done': break\n",
        "    value = float(inp)\n",
        "    total = total + value\n",
        "    count = count + 1\n",
        "\n",
        "average = total / count\n",
        "print('Average:', average)"
      ],
      "metadata": {
        "colab": {
          "base_uri": "https://localhost:8080/"
        },
        "id": "nqlRD-plHSGV",
        "outputId": "8fb0ed2f-68db-4413-afee-f3da70749508"
      },
      "execution_count": 34,
      "outputs": [
        {
          "output_type": "stream",
          "name": "stdout",
          "text": [
            "Enter a number: 2\n",
            "Enter a number: 3\n",
            "Enter a number: done\n",
            "Average: 2.5\n"
          ]
        }
      ]
    },
    {
      "cell_type": "markdown",
      "source": [
        "**average usi ng list**"
      ],
      "metadata": {
        "id": "EMxQ2-RqIZyH"
      }
    },
    {
      "cell_type": "code",
      "source": [
        "numlist = list()\n",
        "while (True):\n",
        "    inp = input('Enter a number: ')\n",
        "    if inp == 'done': break\n",
        "    value = float(inp)\n",
        "    numlist.append(value)\n",
        "\n",
        "average = sum(numlist) / len(numlist)\n",
        "print('Average:', average)"
      ],
      "metadata": {
        "colab": {
          "base_uri": "https://localhost:8080/"
        },
        "id": "YS_JbbE6Idsf",
        "outputId": "f7368351-f2bc-4924-c58e-469de52cf715"
      },
      "execution_count": 35,
      "outputs": [
        {
          "output_type": "stream",
          "name": "stdout",
          "text": [
            "Enter a number: 2\n",
            "Enter a number: 3\n",
            "Enter a number: done\n",
            "Average: 2.5\n"
          ]
        }
      ]
    },
    {
      "cell_type": "markdown",
      "source": [
        "** Lists and strings**"
      ],
      "metadata": {
        "id": "uV-5Ab4VI2Fh"
      }
    },
    {
      "cell_type": "code",
      "source": [
        "s = 'spam'\n",
        "t = list(s)\n",
        "print(t)"
      ],
      "metadata": {
        "colab": {
          "base_uri": "https://localhost:8080/"
        },
        "id": "COT7PAaBI30Q",
        "outputId": "634cf9af-242a-4659-9cf3-7cfd7d9aeb74"
      },
      "execution_count": 36,
      "outputs": [
        {
          "output_type": "stream",
          "name": "stdout",
          "text": [
            "['s', 'p', 'a', 'm']\n"
          ]
        }
      ]
    },
    {
      "cell_type": "code",
      "source": [
        "#split\n",
        "s = 'pining for the fjords'\n",
        "t = s.split()\n",
        "print(t)\n",
        "print(t[2])"
      ],
      "metadata": {
        "colab": {
          "base_uri": "https://localhost:8080/"
        },
        "id": "WwIECK-CJEJq",
        "outputId": "8d58f457-be1f-4ce5-f6fc-2c9b960dd0ad"
      },
      "execution_count": 37,
      "outputs": [
        {
          "output_type": "stream",
          "name": "stdout",
          "text": [
            "['pining', 'for', 'the', 'fjords']\n",
            "the\n"
          ]
        }
      ]
    },
    {
      "cell_type": "code",
      "source": [
        "#split at \n",
        "s = 'spam-spam-spam'\n",
        "delimiter = '-'\n",
        "s.split(delimiter)"
      ],
      "metadata": {
        "colab": {
          "base_uri": "https://localhost:8080/"
        },
        "id": "5Rm1c8U-JQC4",
        "outputId": "43cb2a1c-ba32-4b43-8387-b62ac5779baa"
      },
      "execution_count": 39,
      "outputs": [
        {
          "output_type": "execute_result",
          "data": {
            "text/plain": [
              "['spam', 'spam', 'spam']"
            ]
          },
          "metadata": {},
          "execution_count": 39
        }
      ]
    },
    {
      "cell_type": "code",
      "source": [
        "#join\n",
        "t = [' pining' , ' for' , ' the' , ' fjords' ]\n",
        "delimiter = ' '\n",
        "delimiter.join(t)"
      ],
      "metadata": {
        "colab": {
          "base_uri": "https://localhost:8080/",
          "height": 36
        },
        "id": "xcmzDtygJaZO",
        "outputId": "5fc1e723-8982-405b-c350-53a0af606742"
      },
      "execution_count": 40,
      "outputs": [
        {
          "output_type": "execute_result",
          "data": {
            "application/vnd.google.colaboratory.intrinsic+json": {
              "type": "string"
            },
            "text/plain": [
              "' pining  for  the  fjords'"
            ]
          },
          "metadata": {},
          "execution_count": 40
        }
      ]
    }
  ]
}