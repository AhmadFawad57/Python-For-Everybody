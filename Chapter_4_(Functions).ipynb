{
  "nbformat": 4,
  "nbformat_minor": 0,
  "metadata": {
    "colab": {
      "name": "Chapter_4 (Functions).ipynb",
      "provenance": [],
      "collapsed_sections": [],
      "authorship_tag": "ABX9TyNvDKmDCVKY0fwXmdIZ6I8i",
      "include_colab_link": true
    },
    "kernelspec": {
      "name": "python3",
      "display_name": "Python 3"
    },
    "language_info": {
      "name": "python"
    }
  },
  "cells": [
    {
      "cell_type": "markdown",
      "metadata": {
        "id": "view-in-github",
        "colab_type": "text"
      },
      "source": [
        "<a href=\"https://colab.research.google.com/github/SyedHasnat/Python-For-Everybody/blob/main/Chapter_4_(Functions).ipynb\" target=\"_parent\"><img src=\"https://colab.research.google.com/assets/colab-badge.svg\" alt=\"Open In Colab\"/></a>"
      ]
    },
    {
      "cell_type": "markdown",
      "source": [
        "\n",
        "**Functions** \n",
        "A block of organized and reusable code\n",
        "* Function Call\n",
        "*   Built-in functions\n",
        "*   Type Conversion Functions\n",
        "*   Random Numbers\n",
        "*   Math Functions\n",
        "*  Adding New Functions\n",
        "*   Pass Arguments "
      ],
      "metadata": {
        "id": "r-0x1CSt-a2t"
      }
    },
    {
      "cell_type": "markdown",
      "source": [
        "**Function Call** "
      ],
      "metadata": {
        "id": "nk8NjWwJ_S8Z"
      }
    },
    {
      "cell_type": "code",
      "execution_count": null,
      "metadata": {
        "colab": {
          "base_uri": "https://localhost:8080/"
        },
        "id": "O7ITQjMm-PzC",
        "outputId": "6fbd5305-a60a-4bad-f93d-19dde75933ad"
      },
      "outputs": [
        {
          "output_type": "execute_result",
          "data": {
            "text/plain": [
              "int"
            ]
          },
          "metadata": {},
          "execution_count": 1
        }
      ],
      "source": [
        "type(232) #The name of the function is type. The expression in parentheses is called the argument of the function. "
      ]
    },
    {
      "cell_type": "markdown",
      "source": [
        "**Built-in functions,** we can use them without needing to provide the function definition"
      ],
      "metadata": {
        "id": "bWH4P201_1xL"
      }
    },
    {
      "cell_type": "code",
      "source": [
        "max(1,3,4) #will return maximum  value"
      ],
      "metadata": {
        "colab": {
          "base_uri": "https://localhost:8080/"
        },
        "id": "FXx6CszMAA7E",
        "outputId": "4c4132e5-0b75-4de9-f317-718b406d2221"
      },
      "execution_count": null,
      "outputs": [
        {
          "output_type": "execute_result",
          "data": {
            "text/plain": [
              "4"
            ]
          },
          "metadata": {},
          "execution_count": 2
        }
      ]
    },
    {
      "cell_type": "code",
      "source": [
        "min(1,3,4) #will return monimum value"
      ],
      "metadata": {
        "colab": {
          "base_uri": "https://localhost:8080/"
        },
        "id": "Y4k7qeGLArH4",
        "outputId": "6de4991e-af85-4b45-e705-880ecb999f1c"
      },
      "execution_count": null,
      "outputs": [
        {
          "output_type": "execute_result",
          "data": {
            "text/plain": [
              "1"
            ]
          },
          "metadata": {},
          "execution_count": 3
        }
      ]
    },
    {
      "cell_type": "code",
      "source": [
        "max('abcdef') # a=1, b=2, c=3.........z=26"
      ],
      "metadata": {
        "colab": {
          "base_uri": "https://localhost:8080/",
          "height": 36
        },
        "id": "9fnuh_eSAwIq",
        "outputId": "c738bae3-6782-4ab9-bc78-d68c6dccb847"
      },
      "execution_count": null,
      "outputs": [
        {
          "output_type": "execute_result",
          "data": {
            "application/vnd.google.colaboratory.intrinsic+json": {
              "type": "string"
            },
            "text/plain": [
              "'f'"
            ]
          },
          "metadata": {},
          "execution_count": 5
        }
      ]
    },
    {
      "cell_type": "code",
      "source": [
        "min('bcadef')"
      ],
      "metadata": {
        "colab": {
          "base_uri": "https://localhost:8080/",
          "height": 36
        },
        "id": "NuKBYTrpA6Ul",
        "outputId": "05eb5895-f383-405c-c277-d03b1bd6e933"
      },
      "execution_count": null,
      "outputs": [
        {
          "output_type": "execute_result",
          "data": {
            "application/vnd.google.colaboratory.intrinsic+json": {
              "type": "string"
            },
            "text/plain": [
              "'a'"
            ]
          },
          "metadata": {},
          "execution_count": 6
        }
      ]
    },
    {
      "cell_type": "code",
      "source": [
        "len('UET Peshawar Kohat Campus') #22 are characters and 3 are space 222+3=25"
      ],
      "metadata": {
        "colab": {
          "base_uri": "https://localhost:8080/"
        },
        "id": "5Zg2tubCBZEj",
        "outputId": "e89aed00-0d4e-422c-d3ca-f1b54375c0d7"
      },
      "execution_count": null,
      "outputs": [
        {
          "output_type": "execute_result",
          "data": {
            "text/plain": [
              "25"
            ]
          },
          "metadata": {},
          "execution_count": 7
        }
      ]
    },
    {
      "cell_type": "markdown",
      "source": [
        "**Type conversion functions** means to change an integer into float or srtring etc."
      ],
      "metadata": {
        "id": "shGddyT6B6MO"
      }
    },
    {
      "cell_type": "code",
      "source": [
        "a='22'\n",
        "print(a)\n",
        "print(type(a))"
      ],
      "metadata": {
        "colab": {
          "base_uri": "https://localhost:8080/"
        },
        "id": "kUmolS3dB5g5",
        "outputId": "ac6c23c5-d19c-4b59-8b19-d6d85e75a75b"
      },
      "execution_count": null,
      "outputs": [
        {
          "output_type": "stream",
          "name": "stdout",
          "text": [
            "22\n",
            "<class 'str'>\n"
          ]
        }
      ]
    },
    {
      "cell_type": "code",
      "source": [
        "print(int(a))\n",
        "type(int(a)) #changing string to integer using function int() and type is used to check the nature after passing through int()"
      ],
      "metadata": {
        "colab": {
          "base_uri": "https://localhost:8080/"
        },
        "id": "OoC6icEUH7x2",
        "outputId": "e973f1fc-139d-4021-8b8a-1e3a737c7119"
      },
      "execution_count": null,
      "outputs": [
        {
          "output_type": "stream",
          "name": "stdout",
          "text": [
            "22\n"
          ]
        },
        {
          "output_type": "execute_result",
          "data": {
            "text/plain": [
              "int"
            ]
          },
          "metadata": {},
          "execution_count": 16
        }
      ]
    },
    {
      "cell_type": "code",
      "source": [
        "b=float(a)\n",
        "print(b)\n",
        "print(type(b))"
      ],
      "metadata": {
        "colab": {
          "base_uri": "https://localhost:8080/"
        },
        "id": "_UA_6BhgIBFy",
        "outputId": "e25191bb-cec1-4584-ea76-6a32086546ce"
      },
      "execution_count": null,
      "outputs": [
        {
          "output_type": "stream",
          "name": "stdout",
          "text": [
            "22.0\n",
            "<class 'float'>\n"
          ]
        }
      ]
    },
    {
      "cell_type": "markdown",
      "source": [
        "**Random numbers** The function random returns a random float between 0.0 and 1.0 (including 0.0 but not 1.0). Each time you call random, you get the next number in a long series."
      ],
      "metadata": {
        "id": "lRIppgpFLaoX"
      }
    },
    {
      "cell_type": "code",
      "source": [
        "import random as rand \n",
        "for i in range(5): #means to generate 5 random numbers\n",
        " rand_numbers = rand.random()\n",
        " print(rand_numbers)"
      ],
      "metadata": {
        "colab": {
          "base_uri": "https://localhost:8080/"
        },
        "id": "o0O1e8RJOFhX",
        "outputId": "da3ad1e7-9176-4c1f-d8e2-b53022439551"
      },
      "execution_count": null,
      "outputs": [
        {
          "output_type": "stream",
          "name": "stdout",
          "text": [
            "0.41199270545900823\n",
            "0.7246709008395793\n",
            "0.39056772937397854\n",
            "0.2417097902802825\n",
            "0.12359338627434258\n"
          ]
        }
      ]
    },
    {
      "cell_type": "code",
      "source": [
        "rand.randint(5, 10) #randomly pick a number from 5,6,7,8,9,10"
      ],
      "metadata": {
        "colab": {
          "base_uri": "https://localhost:8080/"
        },
        "id": "4TVTvL6XPttX",
        "outputId": "745b59be-ab43-4a0c-87b1-b50514aa2596"
      },
      "execution_count": null,
      "outputs": [
        {
          "output_type": "execute_result",
          "data": {
            "text/plain": [
              "10"
            ]
          },
          "metadata": {},
          "execution_count": 33
        }
      ]
    },
    {
      "cell_type": "markdown",
      "source": [
        "**The random module offers a function that can generate random numbers from a specified range and also allowing rooms for steps to be included, called randrange().**"
      ],
      "metadata": {
        "id": "PESioQbWSfc0"
      }
    },
    {
      "cell_type": "code",
      "source": [
        "print(rand.randrange(1, 10, 3)) #select a number from 1 to 10, if the previous selected number is 7 next 3 digits will not be selected on the next executio"
      ],
      "metadata": {
        "colab": {
          "base_uri": "https://localhost:8080/"
        },
        "id": "vLuPRa6nSI_a",
        "outputId": "e49c23c9-4c75-4a27-d3d5-4f341c44217a"
      },
      "execution_count": 44,
      "outputs": [
        {
          "output_type": "stream",
          "name": "stdout",
          "text": [
            "7\n"
          ]
        }
      ]
    },
    {
      "cell_type": "code",
      "source": [
        "#to make clear the above comment execute this section\n",
        "for i in range(5):\n",
        "  print(rand.randrange(1, 10, 3)) #a number can be selected repeatedly"
      ],
      "metadata": {
        "colab": {
          "base_uri": "https://localhost:8080/"
        },
        "id": "RbNOdtbgTQDR",
        "outputId": "123d6c6b-dcbf-4cbc-f6da-a7cc284e39c7"
      },
      "execution_count": 48,
      "outputs": [
        {
          "output_type": "stream",
          "name": "stdout",
          "text": [
            "7\n",
            "4\n",
            "1\n",
            "1\n",
            "4\n"
          ]
        }
      ]
    },
    {
      "cell_type": "markdown",
      "source": [
        "**To choose an element from a sequence at random, you can use choice:**"
      ],
      "metadata": {
        "id": "YoNGkBKDQC7s"
      }
    },
    {
      "cell_type": "code",
      "source": [
        "t = [1, 2, 3]\n",
        "rand.choice(t)"
      ],
      "metadata": {
        "colab": {
          "base_uri": "https://localhost:8080/"
        },
        "id": "-_HsjMiPP153",
        "outputId": "bd70a4c3-d49f-49e1-b81f-57abf2584cc8"
      },
      "execution_count": 36,
      "outputs": [
        {
          "output_type": "execute_result",
          "data": {
            "text/plain": [
              "1"
            ]
          },
          "metadata": {},
          "execution_count": 36
        }
      ]
    },
    {
      "cell_type": "code",
      "source": [
        "choice=['b', 'b', 'c'] \n",
        "choice=random.choice(choice) # a random choice will be selected\n",
        "if choice == 'a' :\n",
        " print('Bad guess' )\n",
        "elif choice == 'b' :\n",
        " print('Good guess' )\n",
        "elif choice == 'c' :\n",
        " print('Close, but not correct' )"
      ],
      "metadata": {
        "colab": {
          "base_uri": "https://localhost:8080/"
        },
        "id": "VursbiMCQ2DS",
        "outputId": "8c3d4a75-8eca-4a74-e2dd-05984288bf6e"
      },
      "execution_count": 37,
      "outputs": [
        {
          "output_type": "stream",
          "name": "stdout",
          "text": [
            "Good guess\n"
          ]
        }
      ]
    },
    {
      "cell_type": "code",
      "source": [
        "choice=['b', 'b', 'c'] \n",
        "choice=random.choice(choice)\n",
        "if choice == 'a' :\n",
        " print('Bad guess' )\n",
        "elif choice == 'b' :\n",
        " print('Good guess' )\n",
        "elif choice == 'c' :\n",
        " print('Close, but not correct' )"
      ],
      "metadata": {
        "colab": {
          "base_uri": "https://localhost:8080/"
        },
        "id": "k05h8-PURRaP",
        "outputId": "e7823e38-8c9b-4d0f-c21c-56fe8acd7545"
      },
      "execution_count": 39,
      "outputs": [
        {
          "output_type": "stream",
          "name": "stdout",
          "text": [
            "Close, but not correct\n"
          ]
        }
      ]
    },
    {
      "cell_type": "markdown",
      "source": [
        "**Shuffle()**"
      ],
      "metadata": {
        "id": "U_INvBf-U7M2"
      }
    },
    {
      "cell_type": "code",
      "source": [
        "#Reference: GreekForGreeks\n",
        "# declare a list\n",
        "sample_list = ['A', 'B', 'C', 'D', 'E']\n",
        "print(\"Original list : \")\n",
        "print(sample_list)\n",
        "# first shuffle\n",
        "random.shuffle(sample_list)\n",
        "print(\"\\nAfter the first shuffle : \")\n",
        "print(sample_list)\n",
        "# second shuffle\n",
        "random.shuffle(sample_list)\n",
        "print(\"\\nAfter the second shuffle : \")\n",
        "print(sample_list)"
      ],
      "metadata": {
        "colab": {
          "base_uri": "https://localhost:8080/"
        },
        "id": "mv__jCjyU_nl",
        "outputId": "20f95e02-9a51-43ac-9a1a-c19fbe11c93b"
      },
      "execution_count": 53,
      "outputs": [
        {
          "output_type": "stream",
          "name": "stdout",
          "text": [
            "Original list : \n",
            "['A', 'B', 'C', 'D', 'E']\n",
            "\n",
            "After the first shuffle : \n",
            "['E', 'C', 'A', 'B', 'D']\n",
            "\n",
            "After the second shuffle : \n",
            "['B', 'A', 'D', 'C', 'E']\n"
          ]
        }
      ]
    },
    {
      "cell_type": "markdown",
      "source": [
        "**Math Functions**\n",
        "for more detail visit through [link text](https://docs.python.org/3/library/math.html)"
      ],
      "metadata": {
        "id": "4RZHcfkXVZ5O"
      }
    },
    {
      "cell_type": "code",
      "source": [
        "import math as m\n",
        "a=3\n",
        "b=4\n",
        "print(m.sqrt(a))\n",
        "print(m.pi)\n",
        "print(m.sin(0))#it will give answer in radian"
      ],
      "metadata": {
        "colab": {
          "base_uri": "https://localhost:8080/"
        },
        "id": "bcimJNp9V1y9",
        "outputId": "7866c6e3-6071-4a1a-908c-1689e3574dae"
      },
      "execution_count": 65,
      "outputs": [
        {
          "output_type": "stream",
          "name": "stdout",
          "text": [
            "1.7320508075688772\n",
            "3.141592653589793\n",
            "0.0\n"
          ]
        }
      ]
    },
    {
      "cell_type": "markdown",
      "source": [
        "**Adding new Functions**"
      ],
      "metadata": {
        "id": "h6W2Bt4oYiBp"
      }
    },
    {
      "cell_type": "code",
      "source": [
        "def favourite_lyrics():\n",
        "  print('Oh please understand, my love, what I say')\n",
        "  print('I am lonely, I am lost')\n",
        "  print('And though I be a young man, my body does decay')\n",
        "  print('Like a wooden craft on a sandy bay')\n",
        "  print('Come, bring to me a basket filled unto the brim')\n",
        "  print('With coloured shells, and set them down')\n",
        "  print('That I may choose but one')\n",
        "  print('I am lonely, I am lost')\n",
        "favourite_lyrics()#function call"
      ],
      "metadata": {
        "colab": {
          "base_uri": "https://localhost:8080/"
        },
        "id": "Cu7bd-2rYyGp",
        "outputId": "cb96a28d-f4f5-4a95-d6ce-57880bc8dbd7"
      },
      "execution_count": 67,
      "outputs": [
        {
          "output_type": "stream",
          "name": "stdout",
          "text": [
            "Oh please understand, my love, what I say\n",
            "I am lonely, I am lost\n",
            "And though I be a young man, my body does decay\n",
            "Like a wooden craft on a sandy bay\n",
            "Come, bring to me a basket filled unto the brim\n",
            "With coloured shells, and set them down\n",
            "That I may choose but one\n",
            "I am lonely, I am lost\n"
          ]
        }
      ]
    },
    {
      "cell_type": "markdown",
      "source": [
        "**To Pass Arguments**"
      ],
      "metadata": {
        "id": "tjaoMpgjlwQ0"
      }
    },
    {
      "cell_type": "code",
      "source": [
        "def add(num1,num2):\n",
        "  print('sum=', num1 + num2)\n",
        "def product(num1,num2):\n",
        "  print('product= ', num1*num2)\n",
        "def string(str):\n",
        "  print(str)\n",
        "z=2\n",
        "add(z,2)\n",
        "product(4,6)\n",
        "print(\"Syed Hasnat \"*2)\n"
      ],
      "metadata": {
        "colab": {
          "base_uri": "https://localhost:8080/"
        },
        "id": "HDLh4w_Llvlb",
        "outputId": "3547b247-fe02-4628-d2b6-eef2e031226c"
      },
      "execution_count": 74,
      "outputs": [
        {
          "output_type": "stream",
          "name": "stdout",
          "text": [
            "sum= 4\n",
            "product=  24\n",
            "Syed Hasnat Syed Hasnat \n"
          ]
        }
      ]
    },
    {
      "cell_type": "code",
      "source": [
        "def addtwo(a, b):\n",
        " added = a + b\n",
        " return added #da result ba hagha zai ki store shi da kom zai na chi pa kom variable dy call shwe dai\n",
        "x = addtwo(100, 5)\n",
        "print(x)"
      ],
      "metadata": {
        "colab": {
          "base_uri": "https://localhost:8080/"
        },
        "id": "uB8btvioojam",
        "outputId": "1e50011d-b01b-4ce5-c781-b1243e67ccea"
      },
      "execution_count": 78,
      "outputs": [
        {
          "output_type": "stream",
          "name": "stdout",
          "text": [
            "105\n"
          ]
        }
      ]
    },
    {
      "cell_type": "markdown",
      "source": [
        "**EXERCISES**\n",
        "\n",
        "\n",
        "*   **Write code for a calulator using function oriented approch. Find sine inverse of 2/4pi rad in degrees**\n",
        "\n",
        "\n"
      ],
      "metadata": {
        "id": "Teue5Br4n6UE"
      }
    }
  ]
}