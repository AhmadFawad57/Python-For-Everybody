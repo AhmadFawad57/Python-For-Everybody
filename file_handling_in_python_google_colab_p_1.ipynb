{
  "nbformat": 4,
  "nbformat_minor": 0,
  "metadata": {
    "colab": {
      "name": "file_handling_in_python_google_colab_p_1.ipynb",
      "provenance": [],
      "collapsed_sections": [],
      "authorship_tag": "ABX9TyN7QQOCG8MYFugPDGXe0/YN",
      "include_colab_link": true
    },
    "kernelspec": {
      "name": "python3",
      "display_name": "Python 3"
    },
    "language_info": {
      "name": "python"
    }
  },
  "cells": [
    {
      "cell_type": "markdown",
      "metadata": {
        "id": "view-in-github",
        "colab_type": "text"
      },
      "source": [
        "<a href=\"https://colab.research.google.com/github/SyedHasnat/Python-For-Everybody/blob/main/file_handling_in_python_google_colab_p_1.ipynb\" target=\"_parent\"><img src=\"https://colab.research.google.com/assets/colab-badge.svg\" alt=\"Open In Colab\"/></a>"
      ]
    },
    {
      "cell_type": "markdown",
      "source": [
        "**File Handling in Python**"
      ],
      "metadata": {
        "id": "V7kUnKAj6ZjS"
      }
    },
    {
      "cell_type": "markdown",
      "source": [
        "**crerating a txt file**"
      ],
      "metadata": {
        "id": "WFValB4z2Mvu"
      }
    },
    {
      "cell_type": "code",
      "source": [
        "f = open('my_first_test_file.txt','x')"
      ],
      "metadata": {
        "id": "2osVETlO6i_3"
      },
      "execution_count": null,
      "outputs": []
    },
    {
      "cell_type": "markdown",
      "source": [
        "![image.png](data:image/png;base64,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)"
      ],
      "metadata": {
        "id": "WvFYkWtL7GJM"
      }
    },
    {
      "cell_type": "markdown",
      "source": [
        "**open the created file in append mood**"
      ],
      "metadata": {
        "id": "_4Jq13192U5t"
      }
    },
    {
      "cell_type": "code",
      "source": [
        "#open the created file in append mood\n",
        "f = open('/content/my_first_test_file.txt','a')\n",
        "f.write('hello! this is my first attempt\\n')\n",
        "#after this i am closing my file\n",
        "f.close()"
      ],
      "metadata": {
        "id": "zJEZZC4M69xl"
      },
      "execution_count": null,
      "outputs": []
    },
    {
      "cell_type": "markdown",
      "source": [
        "**after this i want to read the file**"
      ],
      "metadata": {
        "id": "iT5EF4F-2c7r"
      }
    },
    {
      "cell_type": "code",
      "source": [
        " \n",
        "#first open it in read mood \n",
        "#then read it\n",
        "f = open('/content/my_first_test_file.txt', 'r')\n",
        "print(f.read())"
      ],
      "metadata": {
        "colab": {
          "base_uri": "https://localhost:8080/"
        },
        "id": "0W5y_3Yp9TcI",
        "outputId": "e543bca3-fd39-4383-80a1-f3a77d34cfc6"
      },
      "execution_count": null,
      "outputs": [
        {
          "output_type": "stream",
          "name": "stdout",
          "text": [
            "hello! this is my first attempt\n",
            "\n"
          ]
        }
      ]
    },
    {
      "cell_type": "markdown",
      "source": [
        "**now you want to read a specific poertion**"
      ],
      "metadata": {
        "id": "ojBMfqSS2lCF"
      }
    },
    {
      "cell_type": "code",
      "source": [
        "f = open('/content/my_first_test_file.txt', 'r')\n",
        "print(f.read(5))"
      ],
      "metadata": {
        "colab": {
          "base_uri": "https://localhost:8080/"
        },
        "id": "7ljelVSO-owr",
        "outputId": "7e712e29-79b4-42f8-fbac-560ce5187316"
      },
      "execution_count": null,
      "outputs": [
        {
          "output_type": "stream",
          "name": "stdout",
          "text": [
            "hello\n"
          ]
        }
      ]
    },
    {
      "cell_type": "code",
      "source": [
        "f = open('/content/my_first_test_file.txt', 'r')\n",
        "print(f.readline())"
      ],
      "metadata": {
        "colab": {
          "base_uri": "https://localhost:8080/"
        },
        "id": "WGnMsReQ_DvS",
        "outputId": "dfa10b73-2c2a-438f-ad31-b0ddc82c10f5"
      },
      "execution_count": null,
      "outputs": [
        {
          "output_type": "stream",
          "name": "stdout",
          "text": [
            "hello! this is my first attempt\n",
            "\n"
          ]
        }
      ]
    },
    {
      "cell_type": "markdown",
      "source": [
        "**append**"
      ],
      "metadata": {
        "id": "3s3d_f6s2p9d"
      }
    },
    {
      "cell_type": "code",
      "source": [
        "f = open('/content/my_first_test_file.txt','a')\n",
        "f.write('le me wirte another sentence\\nhow are you?')\n",
        "f.close()"
      ],
      "metadata": {
        "id": "DMWM9Top_NVA"
      },
      "execution_count": null,
      "outputs": []
    },
    {
      "cell_type": "code",
      "source": [
        "f = open('/content/my_first_test_file.txt', 'r')\n",
        "print(f.readline())\n",
        "print(f.readline())"
      ],
      "metadata": {
        "colab": {
          "base_uri": "https://localhost:8080/"
        },
        "id": "CYPKIXnu_HrN",
        "outputId": "d4f08857-1e8a-453a-8f05-ac26f5042d98"
      },
      "execution_count": null,
      "outputs": [
        {
          "output_type": "stream",
          "name": "stdout",
          "text": [
            "hello! this is my first attempt\n",
            "\n",
            "le me wirte another sentence\n",
            "\n"
          ]
        }
      ]
    },
    {
      "cell_type": "code",
      "source": [
        "f = open('/content/my_first_test_file.txt','r')\n",
        "for x in f:\n",
        "  print(x)\n",
        "f.close()"
      ],
      "metadata": {
        "colab": {
          "base_uri": "https://localhost:8080/"
        },
        "id": "Xc8Cbjgk_srD",
        "outputId": "e678f70c-b074-41e4-e51d-833485ff8a9b"
      },
      "execution_count": null,
      "outputs": [
        {
          "output_type": "stream",
          "name": "stdout",
          "text": [
            "i have cleared all the textyeah! you have cleared the txt\n",
            "\n"
          ]
        }
      ]
    },
    {
      "cell_type": "markdown",
      "source": [
        "**overwrite**"
      ],
      "metadata": {
        "id": "NgHZv5_Y2zJv"
      }
    },
    {
      "cell_type": "code",
      "source": [
        "f = open('/content/my_first_test_file.txt','w')\n",
        "f.write('i have cleared all the text\\n')\n",
        "f.close()"
      ],
      "metadata": {
        "id": "VRMkfcEVAKwE"
      },
      "execution_count": null,
      "outputs": []
    },
    {
      "cell_type": "code",
      "source": [
        "#now i want to check either the text is cleared or not\n",
        "#for this i will open the file in read mood\n",
        "#display the text in side the file\n",
        "f = open('/content/my_first_test_file.txt','r')\n",
        "for x in f:\n",
        "  print(x)\n",
        "f.close()"
      ],
      "metadata": {
        "colab": {
          "base_uri": "https://localhost:8080/"
        },
        "id": "2IhMKr3pAh36",
        "outputId": "1d269d54-3710-4964-d2a8-f1c210b00ebe"
      },
      "execution_count": null,
      "outputs": [
        {
          "output_type": "stream",
          "name": "stdout",
          "text": [
            "i have cleared all the text\n",
            "\n"
          ]
        }
      ]
    },
    {
      "cell_type": "code",
      "source": [
        "f = open('/content/my_first_test_file.txt','r')\n",
        "for x in f:\n",
        "  print(x)\n",
        "if x=='i have cleared all the text\\n' :\n",
        " f.close()\n",
        " f = open('/content/my_first_test_file.txt','w')\n",
        " f.write('yeah! you have cleared the txt\\n')\n",
        " f = open('/content/my_first_test_file.txt','a')\n",
        " f.write('hello! this is my first attempt\\nle me wirte another sentence\\nhow are you?')\n",
        " f.close()\n",
        "f.close()\n"
      ],
      "metadata": {
        "colab": {
          "base_uri": "https://localhost:8080/"
        },
        "id": "jNR5Rv2kBL9z",
        "outputId": "86fc9941-35c9-4390-86d6-f12802917d62"
      },
      "execution_count": null,
      "outputs": [
        {
          "output_type": "stream",
          "name": "stdout",
          "text": [
            "i have cleared all the text\n",
            "\n"
          ]
        }
      ]
    },
    {
      "cell_type": "code",
      "source": [
        "f = open('/content/my_first_test_file.txt','r')\n",
        "for x in f:\n",
        "  print(x)"
      ],
      "metadata": {
        "colab": {
          "base_uri": "https://localhost:8080/"
        },
        "id": "_kLbeZZaFN5Y",
        "outputId": "76d32400-5427-418e-b354-88fd73fa2ba5"
      },
      "execution_count": null,
      "outputs": [
        {
          "output_type": "stream",
          "name": "stdout",
          "text": [
            "yeah! you have cleared the txt\n",
            "\n",
            "hello! this is my first attempt\n",
            "\n",
            "le me wirte another sentence\n",
            "\n",
            "how are you?\n"
          ]
        }
      ]
    },
    {
      "cell_type": "markdown",
      "source": [
        "**import os**"
      ],
      "metadata": {
        "id": "KHUiRfJXGCod"
      }
    },
    {
      "cell_type": "code",
      "source": [
        "import os"
      ],
      "metadata": {
        "id": "CNLwqPFlGBUP"
      },
      "execution_count": null,
      "outputs": []
    },
    {
      "cell_type": "markdown",
      "source": [
        "**Delete a File**"
      ],
      "metadata": {
        "id": "1tHqa5hbr3jr"
      }
    },
    {
      "cell_type": "code",
      "source": [
        "os.remove('/content/sample_data/vv.txt')"
      ],
      "metadata": {
        "id": "MMBWJB6kGL3r"
      },
      "execution_count": null,
      "outputs": []
    },
    {
      "cell_type": "markdown",
      "source": [
        ""
      ],
      "metadata": {
        "id": "AcUXmq8gr53j"
      }
    },
    {
      "cell_type": "markdown",
      "source": [
        "**Check if File exist:**"
      ],
      "metadata": {
        "id": "LvcxVPo3r5-0"
      }
    },
    {
      "cell_type": "code",
      "source": [
        "if os.path.exists(\"/content/sample_data/vv.txt\"):\n",
        "  os.remove(\"/content/sample_data/vv.txt\")\n",
        "else:\n",
        "  print(\"The file does not exist\")"
      ],
      "metadata": {
        "colab": {
          "base_uri": "https://localhost:8080/"
        },
        "id": "2Fz4MmI2rwgi",
        "outputId": "3c4d06c9-f4fc-4b14-dae4-d60a3a9cd8aa"
      },
      "execution_count": null,
      "outputs": [
        {
          "output_type": "stream",
          "name": "stdout",
          "text": [
            "The file does not exist\n"
          ]
        }
      ]
    },
    {
      "cell_type": "markdown",
      "source": [
        "**Delete Folder**"
      ],
      "metadata": {
        "id": "JPJ6YLdZsq_q"
      }
    },
    {
      "cell_type": "code",
      "source": [
        "#os.rmdir(\"folder\")"
      ],
      "metadata": {
        "id": "HU-3JlTkstQc"
      },
      "execution_count": null,
      "outputs": []
    },
    {
      "cell_type": "markdown",
      "source": [
        "**A much cleaner way of opening files in Python is using the ‘with open’ statement as this will automatically close the file once finished. We are going to keep reading the file using the ‘r’ parameter and will run a print statement to tidy up our output**"
      ],
      "metadata": {
        "id": "auUDTLlVt09Q"
      }
    },
    {
      "cell_type": "code",
      "source": [
        "f = open(\"newline.txt\", \"x\")"
      ],
      "metadata": {
        "id": "FzdC1HL6uDvx"
      },
      "execution_count": null,
      "outputs": []
    },
    {
      "cell_type": "code",
      "source": [
        "with open('/content/newline.txt', 'r') as file: \n",
        "    line = file.read()\n",
        "    print(line)"
      ],
      "metadata": {
        "colab": {
          "base_uri": "https://localhost:8080/"
        },
        "id": "IKdkc5UQwhD4",
        "outputId": "a95fbcb7-e680-48ab-c2c8-b78ae3e49630"
      },
      "execution_count": 79,
      "outputs": [
        {
          "output_type": "stream",
          "name": "stdout",
          "text": [
            "Hello \n",
            "my \n",
            "name is \n",
            "hasnat\n"
          ]
        }
      ]
    },
    {
      "cell_type": "code",
      "source": [
        "with open(\"/content/newline.txt\", \"r\") as file: \n",
        "    newline_breaks = \"\"\n",
        "    for line in file: \n",
        "        stripped_line = line.replace('\\n', \" \")\n",
        "        newline_breaks += stripped_line\n",
        "    print(newline_breaks)"
      ],
      "metadata": {
        "colab": {
          "base_uri": "https://localhost:8080/"
        },
        "id": "oJ_hl-Hnt1Ni",
        "outputId": "17e87dcf-b1ff-49a2-bf66-b978c3458144"
      },
      "execution_count": 91,
      "outputs": [
        {
          "output_type": "stream",
          "name": "stdout",
          "text": [
            "Hello  my  name is  hasnat\n"
          ]
        }
      ]
    },
    {
      "cell_type": "code",
      "source": [
        "with open(\"/content/newline.txt\", \"a\") as file:\n",
        "  file.write('\\n')\n",
        "  file.write(newline_breaks)"
      ],
      "metadata": {
        "id": "WCRrIJckzt_l"
      },
      "execution_count": 96,
      "outputs": []
    }
  ]
}