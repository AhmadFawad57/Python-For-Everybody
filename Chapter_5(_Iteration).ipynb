{
  "nbformat": 4,
  "nbformat_minor": 0,
  "metadata": {
    "colab": {
      "name": "Chapter_5( Iteration).ipynb",
      "provenance": [],
      "collapsed_sections": [],
      "authorship_tag": "ABX9TyOE+VOEt7p44UaN+M4HFQoT",
      "include_colab_link": true
    },
    "kernelspec": {
      "name": "python3",
      "display_name": "Python 3"
    },
    "language_info": {
      "name": "python"
    }
  },
  "cells": [
    {
      "cell_type": "markdown",
      "metadata": {
        "id": "view-in-github",
        "colab_type": "text"
      },
      "source": [
        "<a href=\"https://colab.research.google.com/github/SyedHasnat/Python-For-Everybody/blob/main/Chapter_5(_Iteration).ipynb\" target=\"_parent\"><img src=\"https://colab.research.google.com/assets/colab-badge.svg\" alt=\"Open In Colab\"/></a>"
      ]
    },
    {
      "cell_type": "markdown",
      "source": [
        "**Iteration**\n",
        "\n",
        "*   Updating variables\n",
        "\n",
        "*   The while statement\n",
        "\n",
        "*  Finishing iterations with continue\n",
        "*   For Loop\n",
        "\n",
        "\n",
        "*   List item\n",
        "\n",
        "\n",
        "*   List item\n",
        "\n"
      ],
      "metadata": {
        "id": "I6qxbpjBNFsF"
      }
    },
    {
      "cell_type": "code",
      "source": [
        "x=x+1\n",
        "print(x) #it will give error because x is not defined like what's the initial value of x"
      ],
      "metadata": {
        "id": "h536LS4KNaw3"
      },
      "execution_count": null,
      "outputs": []
    },
    {
      "cell_type": "code",
      "execution_count": 1,
      "metadata": {
        "id": "mTPK_55-MbYJ"
      },
      "outputs": [],
      "source": [
        "x=0 #now it is defined\n",
        "x=x+1\n",
        "print(x)"
      ]
    },
    {
      "cell_type": "markdown",
      "source": [
        "**The while statement**"
      ],
      "metadata": {
        "id": "s9_eaubcN4hm"
      }
    },
    {
      "cell_type": "code",
      "source": [
        "n=0\n",
        "while n<10:\n",
        "  print(n, end=' ')# end, to print all the number in one line or a row\n",
        "  n=n+1\n",
        "print('\\nCompleted')"
      ],
      "metadata": {
        "colab": {
          "base_uri": "https://localhost:8080/"
        },
        "id": "HYtW7rnqNzCW",
        "outputId": "23ae5c7a-cbbc-4eaa-f8c0-b3533bd98381"
      },
      "execution_count": 5,
      "outputs": [
        {
          "output_type": "stream",
          "name": "stdout",
          "text": [
            "0 1 2 3 4 5 6 7 8 9 \n",
            "Completed\n"
          ]
        }
      ]
    },
    {
      "cell_type": "code",
      "source": [
        "n = 10\n",
        "while True:\n",
        " print(n, end=' ' )\n",
        " n = n - 1\n",
        " if n== 0:\n",
        "   break # means to stop further execution for this portion\n",
        "print('\\nDone!' )"
      ],
      "metadata": {
        "colab": {
          "base_uri": "https://localhost:8080/"
        },
        "id": "6OhhMcqvN3-E",
        "outputId": "460bf1a7-3f28-4c1a-fcf9-789fc241474e"
      },
      "execution_count": 8,
      "outputs": [
        {
          "output_type": "stream",
          "name": "stdout",
          "text": [
            "10 9 8 7 6 5 4 3 2 1 \n",
            "Done!\n"
          ]
        }
      ]
    },
    {
      "cell_type": "code",
      "source": [
        "while True: #run the loop continously when the input is other than done\n",
        " line = input('> ' )\n",
        " if line == 'done' :\n",
        "  break\n",
        "  print(line)\n",
        "print('Done!' )"
      ],
      "metadata": {
        "colab": {
          "base_uri": "https://localhost:8080/"
        },
        "id": "UvuKHpRfPkFU",
        "outputId": "284d1b87-1343-4084-b99c-647cd43880b4"
      },
      "execution_count": 9,
      "outputs": [
        {
          "output_type": "stream",
          "name": "stdout",
          "text": [
            "> syed\n",
            "> hasnat\n",
            "> done\n",
            "Done!\n"
          ]
        }
      ]
    },
    {
      "cell_type": "markdown",
      "source": [
        "**Finishing iterations with continue**"
      ],
      "metadata": {
        "id": "GggrEWfVN4Vc"
      }
    },
    {
      "cell_type": "code",
      "source": [
        "while True:\n",
        " line = input('> ' )\n",
        " if line[0] == '#' :\n",
        "  continue\n",
        " if line == 'done' :\n",
        "  break\n",
        " print(line)\n",
        "print('Done!' )"
      ],
      "metadata": {
        "colab": {
          "base_uri": "https://localhost:8080/"
        },
        "id": "dSZmvie2P8Eg",
        "outputId": "0f181166-7851-4567-f688-548a6f86f84f"
      },
      "execution_count": 10,
      "outputs": [
        {
          "output_type": "stream",
          "name": "stdout",
          "text": [
            "> a\n",
            "a\n",
            "> b\n",
            "b\n",
            "> #\n",
            "> a\n",
            "a\n",
            "> done\n",
            "Done!\n"
          ]
        }
      ]
    },
    {
      "cell_type": "code",
      "source": [
        "while True:\n",
        " line = input('> ' )\n",
        " if line[0] == '#' :\n",
        "  break\n",
        " if line == 'done' :\n",
        "  continue\n",
        " print(line)\n",
        "print('Done!' )"
      ],
      "metadata": {
        "colab": {
          "base_uri": "https://localhost:8080/"
        },
        "id": "4ZSavJ96RmdM",
        "outputId": "e96de455-c817-462a-a34d-7188d86060db"
      },
      "execution_count": 12,
      "outputs": [
        {
          "output_type": "stream",
          "name": "stdout",
          "text": [
            "> a\n",
            "a\n",
            "> b\n",
            "b\n",
            "> #\n",
            "Done!\n"
          ]
        }
      ]
    },
    {
      "cell_type": "markdown",
      "source": [
        "**For Loop**"
      ],
      "metadata": {
        "id": "SAlhJ7zaUqWy"
      }
    },
    {
      "cell_type": "code",
      "source": [
        "friends = ['to me' , 'to you' , 'to all of you' ]\n",
        "for friend in friends:\n",
        " print('Happy New Year:' , friend)\n",
        "print('Done! hahaha' )"
      ],
      "metadata": {
        "colab": {
          "base_uri": "https://localhost:8080/"
        },
        "id": "AGl_XN32Up6I",
        "outputId": "f0f8d878-5ce5-41df-9f5b-7bb2b1f87436"
      },
      "execution_count": 2,
      "outputs": [
        {
          "output_type": "stream",
          "name": "stdout",
          "text": [
            "Happy New Year: to me\n",
            "Happy New Year: to you\n",
            "Happy New Year: to all of you\n",
            "Done! hahaha\n"
          ]
        }
      ]
    },
    {
      "cell_type": "code",
      "source": [
        "count=0\n",
        "sum = 0\n",
        "for itervar in [3, 41, 12, 9, 74, 15]:\n",
        " sum = sum + itervar #sum of all elements\n",
        " count = count + 1 #counting number of elements or finding length\n",
        "print('Count: ' , count)\n",
        "print('Sum: ' , sum)"
      ],
      "metadata": {
        "colab": {
          "base_uri": "https://localhost:8080/"
        },
        "id": "1kUpB4YFVqO5",
        "outputId": "a72229d5-8cf3-46a2-c50f-9c08b212e7dd"
      },
      "execution_count": 9,
      "outputs": [
        {
          "output_type": "stream",
          "name": "stdout",
          "text": [
            "Count:  6\n",
            "Sum:  154\n"
          ]
        }
      ]
    },
    {
      "cell_type": "markdown",
      "source": [
        "**without loop it can be done through buily-in functions**"
      ],
      "metadata": {
        "id": "XTRHlslQX8-s"
      }
    },
    {
      "cell_type": "code",
      "source": [
        "a =[3, 41, 12, 9, 74, 15]\n",
        "x = len(a)\n",
        "print('length= ', x)"
      ],
      "metadata": {
        "colab": {
          "base_uri": "https://localhost:8080/"
        },
        "id": "r5JGpZlzXZu-",
        "outputId": "47cecefc-2618-4c07-f5f3-eb5991667178"
      },
      "execution_count": 16,
      "outputs": [
        {
          "output_type": "stream",
          "name": "stdout",
          "text": [
            "length=  6\n"
          ]
        }
      ]
    },
    {
      "cell_type": "code",
      "source": [
        "largest = None\n",
        "print('Before:' , largest)\n",
        "for itervar in [3, 41, 12, 9, 74, 15]: #itervar = value at index 0, the vale at index 1 and so on\n",
        " if largest is None or itervar > largest :\n",
        "  largest = itervar\n",
        " print('Loop:' , itervar, largest)\n",
        "print('Largest:' , largest) "
      ],
      "metadata": {
        "colab": {
          "base_uri": "https://localhost:8080/"
        },
        "id": "ti1_sEU0bnqt",
        "outputId": "61c2167c-2ae1-4bbd-f14e-cdd7b12359f6"
      },
      "execution_count": 20,
      "outputs": [
        {
          "output_type": "stream",
          "name": "stdout",
          "text": [
            "Before: None\n",
            "Loop: 3 3\n",
            "Loop: 41 41\n",
            "Loop: 12 41\n",
            "Loop: 9 41\n",
            "Loop: 74 74\n",
            "Loop: 15 74\n",
            "Largest: 74\n"
          ]
        }
      ]
    },
    {
      "cell_type": "code",
      "source": [
        "def min(values):\n",
        " smallest = None\n",
        " for value in values:\n",
        "  if smallest is None or value < smallest:\n",
        "   smallest = value\n",
        " return smallest\n",
        "min([4,1,2,3,9])"
      ],
      "metadata": {
        "colab": {
          "base_uri": "https://localhost:8080/"
        },
        "id": "QEh6jtQhiTZj",
        "outputId": "424b6838-a5ae-41ab-b3ec-de4c2eb132b2"
      },
      "execution_count": 30,
      "outputs": [
        {
          "output_type": "execute_result",
          "data": {
            "text/plain": [
              "1"
            ]
          },
          "metadata": {},
          "execution_count": 30
        }
      ]
    }
  ]
}